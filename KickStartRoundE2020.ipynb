{
  "nbformat": 4,
  "nbformat_minor": 0,
  "metadata": {
    "colab": {
      "name": "KickStartRoundE2020.ipynb",
      "provenance": [],
      "authorship_tag": "ABX9TyNyP1lDvH5rx3/3UfmOdH5f"
    },
    "kernelspec": {
      "name": "python3",
      "display_name": "Python 3"
    }
  },
  "cells": [
    {
      "cell_type": "markdown",
      "metadata": {
        "id": "M-In-TGzPYh4",
        "colab_type": "text"
      },
      "source": [
        "Longest Arithmetic"
      ]
    },
    {
      "cell_type": "code",
      "metadata": {
        "id": "uSIUKOJz7eIg",
        "colab_type": "code",
        "colab": {
          "base_uri": "https://localhost:8080/",
          "height": 83
        },
        "outputId": "c0d22501-5552-4e89-c1e4-b2062b1d26d4"
      },
      "source": [
        "#Works!!\n",
        "T=int(input())\n",
        "tc=0\n",
        "while T>0:\n",
        "    N=int(input())\n",
        "    V=list(map(int,input().split()))\n",
        "    count=0\n",
        "    maxcount = 0\n",
        "    for i in range(2, len(V)):\n",
        "        if V[i-1] - V[i]  ==  V[i-2] - V[i-1]:\n",
        "          count+=1\n",
        "        else:\n",
        "          maxcount = max(maxcount,count)\n",
        "          count=0\n",
        "    tc+=1\n",
        "    print(\"Case #\"+str(tc)+\": \"+str(min(max(maxcount,count)+2,len(V))))\n",
        "    T-=1\n"
      ],
      "execution_count": 1,
      "outputs": [
        {
          "output_type": "stream",
          "text": [
            "1\n",
            "4\n",
            "9 7 5 3\n",
            "Case #1: 4\n"
          ],
          "name": "stdout"
        }
      ]
    },
    {
      "cell_type": "markdown",
      "metadata": {
        "id": "MRB0fLJdg4op",
        "colab_type": "text"
      },
      "source": [
        "\n",
        "\n",
        "---\n",
        "\n"
      ]
    },
    {
      "cell_type": "markdown",
      "metadata": {
        "id": "UicKQeZnpul_",
        "colab_type": "text"
      },
      "source": [
        "High Buildings"
      ]
    },
    {
      "cell_type": "code",
      "metadata": {
        "id": "W0rT79uE9Rig",
        "colab_type": "code",
        "colab": {
          "base_uri": "https://localhost:8080/",
          "height": 66
        },
        "outputId": "d3c1b66b-a092-4019-f309-2f3272d1d08e"
      },
      "source": [
        "#WIP\n",
        "T=int(input())\n",
        "tc=0\n",
        "while T>0:\n",
        "    N, A, B, C = list(map(int,input().split()))\n",
        "    result = 0\n",
        "    if A + B - C > N:\n",
        "      result = 'IMPOSSIBLE'\n",
        "    else:\n",
        "      result = []\n",
        "      for i in range(A):\n",
        "        result.append(i)\n",
        "      for i in range(B):\n",
        "        result.append(i)\n",
        "    tc+=1\n",
        "    print(\"Case #\"+str(tc)+\": \"+str(result))\n",
        "    T-=1"
      ],
      "execution_count": null,
      "outputs": [
        {
          "output_type": "stream",
          "text": [
            "1\n",
            "4 4 4 3\n",
            "Case #1: IMPOSSIBLE\n"
          ],
          "name": "stdout"
        }
      ]
    }
  ]
}