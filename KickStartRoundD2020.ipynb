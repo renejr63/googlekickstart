{
  "nbformat": 4,
  "nbformat_minor": 0,
  "metadata": {
    "colab": {
      "name": "KickStartRoundD2020.ipynb",
      "provenance": [],
      "collapsed_sections": [],
      "authorship_tag": "ABX9TyNgSOq1fx/xJY2IvnzGKAGU"
    },
    "kernelspec": {
      "name": "python3",
      "display_name": "Python 3"
    }
  },
  "cells": [
    {
      "cell_type": "code",
      "metadata": {
        "id": "knyqzZiXN69M",
        "colab_type": "code",
        "colab": {
          "base_uri": "https://localhost:8080/",
          "height": 85
        },
        "outputId": "ae00dc05-ee2d-4bbd-c18e-8c34ac1610cd"
      },
      "source": [
        "#Works!\n",
        "T=int(input())\n",
        "tc=0\n",
        "while T>0:\n",
        "    N=int(input())\n",
        "    V=list(map(int,input().split()))\n",
        "    count=0\n",
        "    previousRecord=0\n",
        "    V.append(0)\n",
        "    for i,a in enumerate(V[:-1]):\n",
        "        comp=0\n",
        "        greaterThanPrevious = i==0 or a>previousRecord\n",
        "        greaterThanFollowing = i == N-1 or V[i]>V[i+1]\n",
        "        if (greaterThanPrevious and greaterThanFollowing):\n",
        "            count+=1\n",
        "        previousRecord = max(previousRecord,V[i])\n",
        "    tc+=1\n",
        "    print(\"Case #\"+str(tc)+\": \"+str(count))\n",
        "    T-=1"
      ],
      "execution_count": null,
      "outputs": [
        {
          "output_type": "stream",
          "text": [
            "1\n",
            "8\n",
            "1 2 0 7 2 0 2 0\n",
            "Case #1: 2\n"
          ],
          "name": "stdout"
        }
      ]
    },
    {
      "cell_type": "markdown",
      "metadata": {
        "id": "49Dfi6FSPwT1",
        "colab_type": "text"
      },
      "source": [
        "Breaking Records"
      ]
    },
    {
      "cell_type": "code",
      "metadata": {
        "id": "tvKOKnJ7bfKG",
        "colab_type": "code",
        "colab": {
          "base_uri": "https://localhost:8080/",
          "height": 85
        },
        "outputId": "c075ca9d-a017-45d8-b44a-081a46e6f273"
      },
      "source": [
        "#Works!\n",
        "T=int(input())\n",
        "tc=0\n",
        "while T>0:\n",
        "    N=int(input())\n",
        "    V=list(map(int,input().split()))\n",
        "    count=0\n",
        "    previousRecord=0\n",
        "    for i,a in enumerate(V):\n",
        "        comp=0\n",
        "        greaterThanPrevious = i==0 or a>previousRecord\n",
        "        try:\n",
        "          greaterThanFollowing = i == N-1 or V[i]>V[i+1]\n",
        "        except IndexError:\n",
        "          pass\n",
        "        if (greaterThanPrevious and greaterThanFollowing):\n",
        "            count+=1\n",
        "        previousRecord = max(previousRecord,V[i])\n",
        "    tc+=1\n",
        "    print(\"Case #\"+str(tc)+\": \"+str(count))\n",
        "    T-=1"
      ],
      "execution_count": null,
      "outputs": [
        {
          "output_type": "stream",
          "text": [
            "1\n",
            "8\n",
            "1 2 0 7 2 0 2 0\n",
            "Case #1: 2\n"
          ],
          "name": "stdout"
        }
      ]
    }
  ]
}